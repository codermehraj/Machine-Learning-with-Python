{
  "cells": [
    {
      "cell_type": "markdown",
      "metadata": {
        "id": "z7EfrsmVQe3H"
      },
      "source": [
        "### **Univariate Linear Regression**"
      ]
    },
    {
      "cell_type": "code",
      "execution_count": 3,
      "metadata": {
        "colab": {
          "base_uri": "https://localhost:8080/"
        },
        "id": "_EZy_OwB7v3t",
        "outputId": "9fc00541-c367-4a3f-8fe9-bf653d6102f8"
      },
      "outputs": [],
      "source": [
        "import pandas as pd\n",
        "import matplotlib.pyplot as plt\n",
        "import csv\n",
        "import numpy as np\n",
        "import seaborn as sns\n",
        "# from google.colab import files\n",
        "# uploaded = files.upload()\n",
        "# from google.colab import drive\n",
        "# drive.mount('/content/drive')"
      ]
    },
    {
      "cell_type": "code",
      "execution_count": 5,
      "metadata": {
        "colab": {
          "base_uri": "https://localhost:8080/",
          "height": 206
        },
        "id": "MdPyt-0W9i_W",
        "outputId": "481f6580-2ec7-4700-a4f9-2e38727c4b47"
      },
      "outputs": [
        {
          "data": {
            "text/html": [
              "<div>\n",
              "<style scoped>\n",
              "    .dataframe tbody tr th:only-of-type {\n",
              "        vertical-align: middle;\n",
              "    }\n",
              "\n",
              "    .dataframe tbody tr th {\n",
              "        vertical-align: top;\n",
              "    }\n",
              "\n",
              "    .dataframe thead th {\n",
              "        text-align: right;\n",
              "    }\n",
              "</style>\n",
              "<table border=\"1\" class=\"dataframe\">\n",
              "  <thead>\n",
              "    <tr style=\"text-align: right;\">\n",
              "      <th></th>\n",
              "      <th>size</th>\n",
              "      <th>price</th>\n",
              "    </tr>\n",
              "  </thead>\n",
              "  <tbody>\n",
              "    <tr>\n",
              "      <th>0</th>\n",
              "      <td>2000</td>\n",
              "      <td>810</td>\n",
              "    </tr>\n",
              "    <tr>\n",
              "      <th>1</th>\n",
              "      <td>2100</td>\n",
              "      <td>907</td>\n",
              "    </tr>\n",
              "    <tr>\n",
              "      <th>2</th>\n",
              "      <td>1100</td>\n",
              "      <td>312</td>\n",
              "    </tr>\n",
              "    <tr>\n",
              "      <th>3</th>\n",
              "      <td>2200</td>\n",
              "      <td>950</td>\n",
              "    </tr>\n",
              "    <tr>\n",
              "      <th>4</th>\n",
              "      <td>1000</td>\n",
              "      <td>301</td>\n",
              "    </tr>\n",
              "  </tbody>\n",
              "</table>\n",
              "</div>"
            ],
            "text/plain": [
              "   size  price\n",
              "0  2000    810\n",
              "1  2100    907\n",
              "2  1100    312\n",
              "3  2200    950\n",
              "4  1000    301"
            ]
          },
          "execution_count": 5,
          "metadata": {},
          "output_type": "execute_result"
        }
      ],
      "source": [
        "data = pd.read_csv('./House_Rent_Dataset.csv')\n",
        "data.head()"
      ]
    },
    {
      "cell_type": "code",
      "execution_count": 6,
      "metadata": {
        "colab": {
          "base_uri": "https://localhost:8080/"
        },
        "id": "GfJCR6i4-CCS",
        "outputId": "2fc9be69-7d2f-4fb2-b551-1741d6b72e1a"
      },
      "outputs": [
        {
          "data": {
            "text/plain": [
              "(7, 2)"
            ]
          },
          "execution_count": 6,
          "metadata": {},
          "output_type": "execute_result"
        }
      ],
      "source": [
        "data.shape"
      ]
    },
    {
      "cell_type": "code",
      "execution_count": 9,
      "metadata": {
        "id": "yscwHH17-IYb"
      },
      "outputs": [
        {
          "name": "stdout",
          "output_type": "stream",
          "text": [
            "[2000 2100 1100 2200 1000  900 1500]\n",
            "[810 907 312 950 301 270 400]\n"
          ]
        }
      ],
      "source": [
        "X = data['size'].values\n",
        "Y = data['price'].values\n",
        "print(X)\n",
        "print(Y)"
      ]
    },
    {
      "cell_type": "code",
      "execution_count": 10,
      "metadata": {
        "id": "AVoy9-UA-TCw"
      },
      "outputs": [
        {
          "name": "stdout",
          "output_type": "stream",
          "text": [
            "1542.857142857143\n"
          ]
        },
        {
          "data": {
            "text/plain": [
              "564.2857142857143"
            ]
          },
          "execution_count": 10,
          "metadata": {},
          "output_type": "execute_result"
        }
      ],
      "source": [
        "mean_X = np.mean(X)\n",
        "mean_Y = np.mean(Y)\n",
        "print(mean_X)\n",
        "mean_Y"
      ]
    },
    {
      "cell_type": "markdown",
      "metadata": {},
      "source": [
        "The following bolck calculates y = mx + c values "
      ]
    },
    {
      "cell_type": "code",
      "execution_count": 12,
      "metadata": {
        "colab": {
          "base_uri": "https://localhost:8080/"
        },
        "id": "tbePU14X-X6D",
        "outputId": "c58768b3-99e5-44bb-fb66-5a118b1149a4"
      },
      "outputs": [
        {
          "name": "stdout",
          "output_type": "stream",
          "text": [
            "0.5425615384615384 -272.8092307692307\n"
          ]
        }
      ],
      "source": [
        "A = 0\n",
        "B = 0\n",
        "for i in range(len(X)):\n",
        "  A += (X[i] - mean_X) * (Y[i] - mean_Y)\n",
        "  B += (X[i] - mean_X) ** 2\n",
        "\n",
        "m = A / B\n",
        "c = mean_Y - (m * mean_X)\n",
        "\n",
        "print(m, c)"
      ]
    },
    {
      "cell_type": "code",
      "execution_count": 21,
      "metadata": {
        "colab": {
          "base_uri": "https://localhost:8080/",
          "height": 334
        },
        "id": "W9hjjSFnDzr7",
        "outputId": "2d67385b-dbe7-44d2-eea1-2ba0e39ef687"
      },
      "outputs": [
        {
          "name": "stdout",
          "output_type": "stream",
          "text": [
            "Maximum X is :  2200\n",
            "Minimum X is :  900\n"
          ]
        },
        {
          "data": {
            "image/png": "[encoded data removed]",
            "text/plain": [
              "<Figure size 1000x500 with 1 Axes>"
            ]
          },
          "metadata": {},
          "output_type": "display_data"
        }
      ],
      "source": [
        "plt.rcParams['figure.figsize'] = (10.0, 5.0)\n",
        "\n",
        "print(\"Maximum X is : \" , np.max(X))\n",
        "print(\"Minimum X is : \" , np.min(X))\n",
        "\n",
        "max_x = np.max(X) + 100\n",
        "min_x = np.min(X) - 100\n",
        "\n",
        "x = np.linspace(min_x, max_x, 1000)\n",
        "y = m * x + c\n",
        "\n",
        "plt.plot(x, y, color='#58b970', label='Regression Line')\n",
        "plt.scatter(X, Y, c = \"#ef5423\", label = 'Scatter Plot')\n",
        "\n",
        "plt.xlabel('House Size')\n",
        "plt.ylabel('Price')\n",
        "plt.legend()\n",
        "plt.show()"
      ]
    },
    {
      "cell_type": "code",
      "execution_count": null,
      "metadata": {},
      "outputs": [],
      "source": [
        "min_x = np.min(X) - 100\n",
        "\n",
        "x = np.linspace(min_x, max_x, 1000)\n",
        "y = m * x + c\n",
        "\n",
        "plt.plot(x, y, color='#58b970', label='Regression Line')\n",
        "plt.scatter(X, Y, c = \"#ef5423\", label = 'Scatter Plot')\n",
        "\n",
        "plt.xlabel('House Size')\n",
        "plt.ylabel('Price')\n",
        "plt.legend()\n",
        "plt.show()"
      ]
    },
    {
      "cell_type": "markdown",
      "metadata": {
        "id": "D3OjqFvzVdOT"
      },
      "source": [
        "### **Gradient Descent**\n"
      ]
    },
    {
      "cell_type": "code",
      "execution_count": 7,
      "metadata": {
        "colab": {
          "base_uri": "https://localhost:8080/",
          "height": 283
        },
        "id": "fhpdcZKoVrkv",
        "outputId": "464f0415-8f42-40f8-9910-13d9a1dba71d"
      },
      "outputs": [
        {
          "name": "stdout",
          "output_type": "stream",
          "text": [
            "-272.8019845744321 0.5425615384615384\n"
          ]
        },
        {
          "data": {
            "image/png": "[encoded data removed]",
            "text/plain": [
              "<Figure size 432x288 with 1 Axes>"
            ]
          },
          "metadata": {
            "needs_background": "light"
          },
          "output_type": "display_data"
        }
      ],
      "source": [
        "thetas = []\n",
        "costs = []\n",
        "\n",
        "m = len(X)\n",
        "epoch = 100\n",
        "# learning_rate_1 = 0.0000001\n",
        "learning_rate = 0.1\n",
        "theta_0 = 0\n",
        "theta_1 = 0.5425615384615384\n",
        "\n",
        "for i in range(epoch):\n",
        "  temp_0 = 0\n",
        "  temp_1 = 0\n",
        "  for j in range(m):\n",
        "    temp_0 += (theta_0 + theta_1*X[j] - Y[j])\n",
        "    # temp_1 += (theta_0 + theta_1*X[j] - Y[j]) * X[j]\n",
        "  \n",
        "  theta_0 = theta_0 - learning_rate * (temp_0) / m\n",
        "  # theta_1 = theta_1 - learning_rate_1 * (temp_1) / m\n",
        "\n",
        "  thetas.append(theta_0)\n",
        "  sum = 0\n",
        "  for k in range(m):\n",
        "    sum_ = (theta_0 + theta_1*X[k] - Y[k]) * ((theta_0 + theta_1*X[k] - Y[k]))\n",
        "  cost = sum_ / (2 * m)\n",
        "  costs.append(cost)\n",
        "\n",
        "  # print('Theta 0 : ' , theta_0)\n",
        "  # print('Theta 1 : ' ,theta_1)\n",
        "\n",
        "print(theta_0, theta_1)\n",
        "\n",
        "plt.scatter(thetas, costs, c = \"#ef5423\", label = 'Scatter Plot')\n",
        "plt.show()"
      ]
    },
    {
      "cell_type": "markdown",
      "metadata": {
        "id": "7nPBwI7L89Yi"
      },
      "source": [
        "### **Gradient Descent with 4k+ data**"
      ]
    },
    {
      "cell_type": "code",
      "execution_count": 29,
      "metadata": {
        "colab": {
          "base_uri": "https://localhost:8080/",
          "height": 206
        },
        "id": "e1TjX6Xu9F18",
        "outputId": "73b74402-edd6-4646-e157-fa2406b5a5b1"
      },
      "outputs": [
        {
          "data": {
            "text/html": [
              "\n",
              "  <div id=\"df-63935679-7455-48d5-b0c5-7ecc04bfb7ce\">\n",
              "    <div class=\"colab-df-container\">\n",
              "      <div>\n",
              "<style scoped>\n",
              "    .dataframe tbody tr th:only-of-type {\n",
              "        vertical-align: middle;\n",
              "    }\n",
              "\n",
              "    .dataframe tbody tr th {\n",
              "        vertical-align: top;\n",
              "    }\n",
              "\n",
              "    .dataframe thead th {\n",
              "        text-align: right;\n",
              "    }\n",
              "</style>\n",
              "<table border=\"1\" class=\"dataframe\">\n",
              "  <thead>\n",
              "    <tr style=\"text-align: right;\">\n",
              "      <th></th>\n",
              "      <th>Posted On</th>\n",
              "      <th>BHK</th>\n",
              "      <th>Rent</th>\n",
              "      <th>Size</th>\n",
              "      <th>Floor</th>\n",
              "      <th>Area Type</th>\n",
              "      <th>Area Locality</th>\n",
              "      <th>City</th>\n",
              "      <th>Furnishing Status</th>\n",
              "      <th>Tenant Preferred</th>\n",
              "      <th>Bathroom</th>\n",
              "      <th>Point of Contact</th>\n",
              "    </tr>\n",
              "  </thead>\n",
              "  <tbody>\n",
              "    <tr>\n",
              "      <th>0</th>\n",
              "      <td>2022-05-18</td>\n",
              "      <td>2</td>\n",
              "      <td>10000</td>\n",
              "      <td>1100</td>\n",
              "      <td>Ground out of 2</td>\n",
              "      <td>Super Area</td>\n",
              "      <td>Bandel</td>\n",
              "      <td>Kolkata</td>\n",
              "      <td>Unfurnished</td>\n",
              "      <td>Bachelors/Family</td>\n",
              "      <td>2</td>\n",
              "      <td>Contact Owner</td>\n",
              "    </tr>\n",
              "    <tr>\n",
              "      <th>1</th>\n",
              "      <td>2022-05-13</td>\n",
              "      <td>2</td>\n",
              "      <td>20000</td>\n",
              "      <td>800</td>\n",
              "      <td>1 out of 3</td>\n",
              "      <td>Super Area</td>\n",
              "      <td>Phool Bagan, Kankurgachi</td>\n",
              "      <td>Kolkata</td>\n",
              "      <td>Semi-Furnished</td>\n",
              "      <td>Bachelors/Family</td>\n",
              "      <td>1</td>\n",
              "      <td>Contact Owner</td>\n",
              "    </tr>\n",
              "    <tr>\n",
              "      <th>2</th>\n",
              "      <td>2022-05-16</td>\n",
              "      <td>2</td>\n",
              "      <td>17000</td>\n",
              "      <td>1000</td>\n",
              "      <td>1 out of 3</td>\n",
              "      <td>Super Area</td>\n",
              "      <td>Salt Lake City Sector 2</td>\n",
              "      <td>Kolkata</td>\n",
              "      <td>Semi-Furnished</td>\n",
              "      <td>Bachelors/Family</td>\n",
              "      <td>1</td>\n",
              "      <td>Contact Owner</td>\n",
              "    </tr>\n",
              "    <tr>\n",
              "      <th>3</th>\n",
              "      <td>2022-07-04</td>\n",
              "      <td>2</td>\n",
              "      <td>10000</td>\n",
              "      <td>800</td>\n",
              "      <td>1 out of 2</td>\n",
              "      <td>Super Area</td>\n",
              "      <td>Dumdum Park</td>\n",
              "      <td>Kolkata</td>\n",
              "      <td>Unfurnished</td>\n",
              "      <td>Bachelors/Family</td>\n",
              "      <td>1</td>\n",
              "      <td>Contact Owner</td>\n",
              "    </tr>\n",
              "    <tr>\n",
              "      <th>4</th>\n",
              "      <td>2022-05-09</td>\n",
              "      <td>2</td>\n",
              "      <td>7500</td>\n",
              "      <td>850</td>\n",
              "      <td>1 out of 2</td>\n",
              "      <td>Carpet Area</td>\n",
              "      <td>South Dum Dum</td>\n",
              "      <td>Kolkata</td>\n",
              "      <td>Unfurnished</td>\n",
              "      <td>Bachelors</td>\n",
              "      <td>1</td>\n",
              "      <td>Contact Owner</td>\n",
              "    </tr>\n",
              "  </tbody>\n",
              "</table>\n",
              "</div>\n",
              "      <button class=\"colab-df-convert\" onclick=\"convertToInteractive('df-63935679-7455-48d5-b0c5-7ecc04bfb7ce')\"\n",
              "              title=\"Convert this dataframe to an interactive table.\"\n",
              "              style=\"display:none;\">\n",
              "        \n",
              "  <svg xmlns=\"http://www.w3.org/2000/svg\" height=\"24px\"viewBox=\"0 0 24 24\"\n",
              "       width=\"24px\">\n",
              "    <path d=\"M0 0h24v24H0V0z\" fill=\"none\"/>\n",
              "    <path d=\"M18.56 5.44l.94 2.06.94-2.06 2.06-.94-2.06-.94-.94-2.06-.94 2.06-2.06.94zm-11 1L8.5 8.5l.94-2.06 2.06-.94-2.06-.94L8.5 2.5l-.94 2.06-2.06.94zm10 10l.94 2.06.94-2.06 2.06-.94-2.06-.94-.94-2.06-.94 2.06-2.06.94z\"/><path d=\"M17.41 7.96l-1.37-1.37c-.4-.4-.92-.59-1.43-.59-.52 0-1.04.2-1.43.59L10.3 9.45l-7.72 7.72c-.78.78-.78 2.05 0 2.83L4 21.41c.39.39.9.59 1.41.59.51 0 1.02-.2 1.41-.59l7.78-7.78 2.81-2.81c.8-.78.8-2.07 0-2.86zM5.41 20L4 18.59l7.72-7.72 1.47 1.35L5.41 20z\"/>\n",
              "  </svg>\n",
              "      </button>\n",
              "      \n",
              "  <style>\n",
              "    .colab-df-container {\n",
              "      display:flex;\n",
              "      flex-wrap:wrap;\n",
              "      gap: 12px;\n",
              "    }\n",
              "\n",
              "    .colab-df-convert {\n",
              "      background-color: #E8F0FE;\n",
              "      border: none;\n",
              "      border-radius: 50%;\n",
              "      cursor: pointer;\n",
              "      display: none;\n",
              "      fill: #1967D2;\n",
              "      height: 32px;\n",
              "      padding: 0 0 0 0;\n",
              "      width: 32px;\n",
              "    }\n",
              "\n",
              "    .colab-df-convert:hover {\n",
              "      background-color: #E2EBFA;\n",
              "      box-shadow: 0px 1px 2px rgba(60, 64, 67, 0.3), 0px 1px 3px 1px rgba(60, 64, 67, 0.15);\n",
              "      fill: #174EA6;\n",
              "    }\n",
              "\n",
              "    [theme=dark] .colab-df-convert {\n",
              "      background-color: #3B4455;\n",
              "      fill: #D2E3FC;\n",
              "    }\n",
              "\n",
              "    [theme=dark] .colab-df-convert:hover {\n",
              "      background-color: #434B5C;\n",
              "      box-shadow: 0px 1px 3px 1px rgba(0, 0, 0, 0.15);\n",
              "      filter: drop-shadow(0px 1px 2px rgba(0, 0, 0, 0.3));\n",
              "      fill: #FFFFFF;\n",
              "    }\n",
              "  </style>\n",
              "\n",
              "      <script>\n",
              "        const buttonEl =\n",
              "          document.querySelector('#df-63935679-7455-48d5-b0c5-7ecc04bfb7ce button.colab-df-convert');\n",
              "        buttonEl.style.display =\n",
              "          google.colab.kernel.accessAllowed ? 'block' : 'none';\n",
              "\n",
              "        async function convertToInteractive(key) {\n",
              "          const element = document.querySelector('#df-63935679-7455-48d5-b0c5-7ecc04bfb7ce');\n",
              "          const dataTable =\n",
              "            await google.colab.kernel.invokeFunction('convertToInteractive',\n",
              "                                                     [key], {});\n",
              "          if (!dataTable) return;\n",
              "\n",
              "          const docLinkHtml = 'Like what you see? Visit the ' +\n",
              "            '<a target=\"_blank\" href=https://colab.research.google.com/notebooks/data_table.ipynb>data table notebook</a>'\n",
              "            + ' to learn more about interactive tables.';\n",
              "          element.innerHTML = '';\n",
              "          dataTable['output_type'] = 'display_data';\n",
              "          await google.colab.output.renderOutput(dataTable, element);\n",
              "          const docLink = document.createElement('div');\n",
              "          docLink.innerHTML = docLinkHtml;\n",
              "          element.appendChild(docLink);\n",
              "        }\n",
              "      </script>\n",
              "    </div>\n",
              "  </div>\n",
              "  "
            ],
            "text/plain": [
              "    Posted On  BHK   Rent  Size            Floor    Area Type  \\\n",
              "0  2022-05-18    2  10000  1100  Ground out of 2   Super Area   \n",
              "1  2022-05-13    2  20000   800       1 out of 3   Super Area   \n",
              "2  2022-05-16    2  17000  1000       1 out of 3   Super Area   \n",
              "3  2022-07-04    2  10000   800       1 out of 2   Super Area   \n",
              "4  2022-05-09    2   7500   850       1 out of 2  Carpet Area   \n",
              "\n",
              "              Area Locality     City Furnishing Status  Tenant Preferred  \\\n",
              "0                    Bandel  Kolkata       Unfurnished  Bachelors/Family   \n",
              "1  Phool Bagan, Kankurgachi  Kolkata    Semi-Furnished  Bachelors/Family   \n",
              "2   Salt Lake City Sector 2  Kolkata    Semi-Furnished  Bachelors/Family   \n",
              "3               Dumdum Park  Kolkata       Unfurnished  Bachelors/Family   \n",
              "4             South Dum Dum  Kolkata       Unfurnished         Bachelors   \n",
              "\n",
              "   Bathroom Point of Contact  \n",
              "0         2    Contact Owner  \n",
              "1         1    Contact Owner  \n",
              "2         1    Contact Owner  \n",
              "3         1    Contact Owner  \n",
              "4         1    Contact Owner  "
            ]
          },
          "execution_count": 29,
          "metadata": {},
          "output_type": "execute_result"
        }
      ],
      "source": [
        "data = pd.read_csv('/content/drive/MyDrive/Dummy-Dataset/4K_House_Rent_Dataset.csv')\n",
        "data.head()"
      ]
    },
    {
      "cell_type": "code",
      "execution_count": 31,
      "metadata": {
        "colab": {
          "base_uri": "https://localhost:8080/"
        },
        "id": "nWBXm9ph-y-U",
        "outputId": "075f1e9f-83bf-4773-d245-a5e50199cffb"
      },
      "outputs": [
        {
          "data": {
            "text/plain": [
              "(4746, 12)"
            ]
          },
          "execution_count": 31,
          "metadata": {},
          "output_type": "execute_result"
        }
      ],
      "source": [
        "data.shape"
      ]
    },
    {
      "cell_type": "code",
      "execution_count": 15,
      "metadata": {
        "colab": {
          "base_uri": "https://localhost:8080/",
          "height": 308
        },
        "id": "CpHdQxQrmmce",
        "outputId": "df57d147-c711-4014-801f-8b0c35b58fb1"
      },
      "outputs": [
        {
          "name": "stdout",
          "output_type": "stream",
          "text": [
            "-0.3998334298732945 40.60576103910427\n"
          ]
        },
        {
          "data": {
            "image/png": "[encoded data removed]",
            "text/plain": [
              "<Figure size 432x288 with 1 Axes>"
            ]
          },
          "metadata": {
            "needs_background": "light"
          },
          "output_type": "display_data"
        }
      ],
      "source": [
        "X = data['Size']\n",
        "Y = data['Rent']\n",
        "\n",
        "m = len(X)\n",
        "epoch = 1000\n",
        "learning_rate = 0.0000001\n",
        "theta_0 = 0\n",
        "theta_1 = 0\n",
        "\n",
        "for i in range(epoch):\n",
        "  temp_0 = 0\n",
        "  temp_1 = 0\n",
        "  for j in range(m):\n",
        "    temp_0 += (theta_0 + theta_1*X[j] - Y[j])\n",
        "    temp_1 += (theta_0 + theta_1*X[j] - Y[j]) * X[j]\n",
        "  \n",
        "  theta_0 = theta_0 - learning_rate * (temp_0) / m\n",
        "  theta_1 = theta_1 - learning_rate * (temp_1) / m\n",
        "\n",
        "  sum = 0\n",
        "  for k in range(m):\n",
        "    sum_ = (theta_0 + theta_1*X[k] - Y[k]) * ((theta_0 + theta_1*X[k] - Y[k]))\n",
        "  cost = sum_ / (2 * m)\n",
        "\n",
        "  # print(theta_0, theta_1)\n",
        "\n",
        "\n",
        "# Plotting Data\n",
        "max_x = np.max(X) + 100\n",
        "min_x = np.min(X) - 100\n",
        "\n",
        "x = np.linspace(min_x, max_x, 1000)\n",
        "y = theta_1 * x + theta_0\n",
        "\n",
        "plt.plot(x, y, color='#58b970', label='Regression Line')\n",
        "plt.scatter(X, Y, c = \"#ef5423\", label = 'Scatter Plot')\n",
        "\n",
        "print(theta_0, theta_1)\n",
        "\n",
        "plt.xlabel('House Size')\n",
        "plt.ylabel('Price')\n",
        "plt.legend()\n",
        "plt.show()"
      ]
    },
    {
      "cell_type": "markdown",
      "metadata": {
        "id": "B3AnhyzRsv8m"
      },
      "source": [
        "## **Normal Equation (using the Dataset used in 1st section : Univariate Linear Regression:)**"
      ]
    },
    {
      "cell_type": "code",
      "execution_count": 8,
      "metadata": {
        "id": "L9Jd8HEns2c2"
      },
      "outputs": [],
      "source": [
        "import pandas as pd\n",
        "import matplotlib.pyplot as plt\n",
        "import csv\n",
        "import numpy as np\n",
        "import seaborn as sns"
      ]
    },
    {
      "cell_type": "code",
      "execution_count": 9,
      "metadata": {
        "colab": {
          "base_uri": "https://localhost:8080/"
        },
        "id": "mKOWQN5zwSNG",
        "outputId": "1fa69d40-4962-4ea5-baf2-5274dfc70d1c"
      },
      "outputs": [
        {
          "data": {
            "text/plain": [
              "array([[       5,     8400],\n",
              "       [    8400, 15460000]])"
            ]
          },
          "execution_count": 9,
          "metadata": {},
          "output_type": "execute_result"
        }
      ],
      "source": [
        "X = np.array([[1, 2000], [1, 2100], [1, 1100], [1, 2200], [1, 1000]])\n",
        "S = np.matmul(X.T, X)\n",
        "S"
      ]
    },
    {
      "cell_type": "code",
      "execution_count": 10,
      "metadata": {
        "colab": {
          "base_uri": "https://localhost:8080/"
        },
        "id": "-N8O_NhdwiBV",
        "outputId": "48af3d1e-8814-499d-f1cd-85a36b2acd6c"
      },
      "outputs": [
        {
          "data": {
            "text/plain": [
              "array([[   3280],\n",
              "       [6258900]])"
            ]
          },
          "execution_count": 10,
          "metadata": {},
          "output_type": "execute_result"
        }
      ],
      "source": [
        "Y = np.array([[810], [907], [312], [950], [301]])\n",
        "P = np.matmul(X.T, Y)\n",
        "P"
      ]
    },
    {
      "cell_type": "code",
      "execution_count": 11,
      "metadata": {
        "colab": {
          "base_uri": "https://localhost:8080/"
        },
        "id": "SRUEfUz4w_b9",
        "outputId": "38565f33-4a15-40ef-ccbe-7ce6e1177839"
      },
      "outputs": [
        {
          "data": {
            "text/plain": [
              "array([[ 2.29376855e+00, -1.24629080e-03],\n",
              "       [-1.24629080e-03,  7.41839763e-07]])"
            ]
          },
          "execution_count": 11,
          "metadata": {},
          "output_type": "execute_result"
        }
      ],
      "source": [
        "from numpy.linalg import inv\n",
        "S = inv(S)\n",
        "S"
      ]
    },
    {
      "cell_type": "code",
      "execution_count": 12,
      "metadata": {
        "id": "5q02zDNNxLD8"
      },
      "outputs": [],
      "source": [
        "theta = np.matmul(S, P)"
      ]
    },
    {
      "cell_type": "code",
      "execution_count": 13,
      "metadata": {
        "colab": {
          "base_uri": "https://localhost:8080/"
        },
        "id": "N9XOpdIyyHp5",
        "outputId": "cc3ff499-ffb0-4ff4-9f9f-953cc7b7b8fc"
      },
      "outputs": [
        {
          "data": {
            "text/plain": [
              "array([[-276.84866469],\n",
              "       [   0.55526706]])"
            ]
          },
          "execution_count": 13,
          "metadata": {},
          "output_type": "execute_result"
        }
      ],
      "source": [
        "theta"
      ]
    },
    {
      "cell_type": "code",
      "execution_count": null,
      "metadata": {
        "id": "Z50ogdbWyIlD"
      },
      "outputs": [],
      "source": []
    }
  ],
  "metadata": {
    "colab": {
      "provenance": []
    },
    "kernelspec": {
      "display_name": "Python 3",
      "name": "python3"
    },
    "language_info": {
      "codemirror_mode": {
        "name": "ipython",
        "version": 3
      },
      "file_extension": ".py",
      "mimetype": "text/x-python",
      "name": "python",
      "nbconvert_exporter": "python",
      "pygments_lexer": "ipython3",
      "version": "3.12.0"
    }
  },
  "nbformat": 4,
  "nbformat_minor": 0
}
